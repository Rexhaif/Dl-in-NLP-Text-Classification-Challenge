{
 "cells": [
  {
   "cell_type": "markdown",
   "metadata": {
    "_cell_guid": "b1076dfc-b9ad-4769-8c92-a6c4dae69d19",
    "_uuid": "8f2839f25d086af736a60e9eeb907d3b93b6e0e5"
   },
   "source": [
    "# Official example\n",
    "## Neural network baseline\n",
    "\n",
    "Neural networks require a lot more compute time. It is much faster to train them on GPU. This is how to enable GPU at Kernel: https://www.kaggle.com/dansbecker/running-kaggle-kernels-with-a-gpu"
   ]
  },
  {
   "cell_type": "code",
   "execution_count": 1,
   "metadata": {},
   "outputs": [],
   "source": [
    "import sys\n",
    "import os\n",
    "import csv\n",
    "import time\n",
    "csv.field_size_limit(sys.maxsize)  # needed for torchtext\n",
    "\n",
    "import pandas as pd\n",
    "import numpy as np\n",
    "\n",
    "import torch\n",
    "import torch.nn as nn\n",
    "import torch.nn.functional as F\n",
    "\n",
    "from torch.utils.data import TensorDataset, RandomSampler, DataLoader, SequentialSampler\n",
    "\n",
    "import torchtext\n",
    "from tqdm import tqdm\n",
    "\n",
    "import sklearn.metrics as skm\n",
    "\n",
    "from pytorch_pretrained_bert.modeling import BertForSequenceClassification, BertConfig\n",
    "from pytorch_pretrained_bert import BertModel\n",
    "from pytorch_pretrained_bert.tokenization import BertTokenizer\n",
    "from pytorch_pretrained_bert.optimization import BertAdam, warmup_linear\n",
    "\n",
    "from apex.optimizers import FP16_Optimizer\n",
    "from apex.optimizers import FusedAdam\n",
    "\n",
    "import logging\n",
    "logger = logging.getLogger(__name__)\n",
    "\n",
    "from tqdm import tqdm_notebook as tqdm\n",
    "\n",
    "import pandas as pd\n",
    "import hashlib\n",
    "import json"
   ]
  },
  {
   "cell_type": "code",
   "execution_count": 2,
   "metadata": {},
   "outputs": [],
   "source": [
    "import pytorch_pretrained_bert"
   ]
  },
  {
   "cell_type": "code",
   "execution_count": 3,
   "metadata": {},
   "outputs": [
    {
     "data": {
      "text/plain": [
       "'0.6.1'"
      ]
     },
     "execution_count": 3,
     "metadata": {},
     "output_type": "execute_result"
    }
   ],
   "source": [
    "pytorch_pretrained_bert.__version__"
   ]
  },
  {
   "cell_type": "code",
   "execution_count": 2,
   "metadata": {},
   "outputs": [
    {
     "name": "stdout",
     "output_type": "stream",
     "text": [
      "{'sha512-256', 'md4', 'sha1', 'shake_128', 'sha3_512', 'md5-sha1', 'sha512-224', 'shake256', 'sm3', 'mdc2', 'sha3-384', 'sha384', 'sha3-512', 'blake2b512', 'md5', 'sha512', 'sha3_224', 'shake128', 'shake_256', 'blake2s256', 'sha3-256', 'ripemd160', 'blake2b', 'sha224', 'sha256', 'blake2s', 'sha3-224', 'whirlpool', 'sha3_256', 'sha3_384'}\n",
      "{'md5', 'sha512', 'sha1', 'sha256', 'sha3_224', 'shake_128', 'blake2s', 'shake_256', 'sha384', 'sha3_512', 'sha3_384', 'sha3_256', 'blake2b', 'sha224'}\n"
     ]
    }
   ],
   "source": [
    "print(hashlib.algorithms_available)\n",
    "print(hashlib.algorithms_guaranteed)"
   ]
  },
  {
   "cell_type": "code",
   "execution_count": 3,
   "metadata": {
    "_uuid": "095f0d4a83b2f06bf87d6b3380975c5c72a36c57"
   },
   "outputs": [],
   "source": [
    "assert torch.cuda.is_available(), 'We strongly reccomend using GPU for this kernel'"
   ]
  },
  {
   "cell_type": "code",
   "execution_count": 4,
   "metadata": {},
   "outputs": [],
   "source": [
    "train = pd.read_csv(\"./data/train.csv\")\n",
    "valid = pd.read_csv(\"./data/valid.csv\")\n",
    "test  = pd.read_csv(\"./data/test.csv\")"
   ]
  },
  {
   "cell_type": "code",
   "execution_count": 5,
   "metadata": {},
   "outputs": [],
   "source": [
    "train = train.dropna()\n",
    "valid = valid.dropna()"
   ]
  },
  {
   "cell_type": "code",
   "execution_count": 6,
   "metadata": {},
   "outputs": [],
   "source": [
    "class InputExample(object):\n",
    "    \"\"\"A single training/test example for sequence classification.\"\"\"\n",
    "\n",
    "    def __init__(self, guid, text_a, text_b=None, labels=None):\n",
    "        \"\"\"Constructs a InputExample.\n",
    "        Args:\n",
    "            guid: Unique id for the example.\n",
    "            text_a: string. The untokenized text of the first sequence. For single\n",
    "            sequence tasks, only this sequence must be specified.\n",
    "            text_b: (Optional) string. The untokenized text of the second sequence.\n",
    "            Only must be specified for sequence pair tasks.\n",
    "            labels: (Optional) [string]. The label of the example. This should be\n",
    "            specified for train and dev examples, but not for test examples.\n",
    "        \"\"\"\n",
    "        self.guid = guid\n",
    "        self.text_a = text_a\n",
    "        self.text_b = text_b\n",
    "        self.label = labels"
   ]
  },
  {
   "cell_type": "code",
   "execution_count": 7,
   "metadata": {},
   "outputs": [],
   "source": [
    "class InputFeatures(object):\n",
    "    \"\"\"A single set of features of data.\"\"\"\n",
    "\n",
    "    def __init__(self, input_ids, input_mask, segment_ids, label_id):\n",
    "        self.input_ids = input_ids\n",
    "        self.input_mask = input_mask\n",
    "        self.segment_ids = segment_ids\n",
    "        self.label_id = label_id"
   ]
  },
  {
   "cell_type": "code",
   "execution_count": 8,
   "metadata": {},
   "outputs": [],
   "source": [
    "tokenizer = BertTokenizer.from_pretrained(\"bert-base-uncased\")"
   ]
  },
  {
   "cell_type": "code",
   "execution_count": 9,
   "metadata": {},
   "outputs": [],
   "source": [
    "def _truncate_seq_pair(tokens_a, tokens_b, max_length):\n",
    "    \"\"\"Truncates a sequence pair in place to the maximum length.\"\"\"\n",
    "\n",
    "    # This is a simple heuristic which will always truncate the longer sequence\n",
    "    # one token at a time. This makes more sense than truncating an equal percent\n",
    "    # of tokens from each, since if one sequence is very short then each token\n",
    "    # that's truncated likely contains more information than a longer sequence.\n",
    "    while True:\n",
    "        total_length = len(tokens_a) + len(tokens_b)\n",
    "        if total_length <= max_length:\n",
    "            break\n",
    "        if len(tokens_a) > len(tokens_b):\n",
    "            tokens_a.pop()\n",
    "        else:\n",
    "            tokens_b.pop()"
   ]
  },
  {
   "cell_type": "code",
   "execution_count": 10,
   "metadata": {},
   "outputs": [],
   "source": [
    "def convert_examples_to_features(examples, label_list, max_seq_length,\n",
    "                                 tokenizer, output_mode):\n",
    "    \"\"\"Loads a data file into a list of `InputBatch`s.\"\"\"\n",
    "\n",
    "    label_map = {label : i for i, label in enumerate(label_list)}\n",
    "\n",
    "    features = []\n",
    "    for (ex_index, example) in tqdm(enumerate(examples)):\n",
    "        if ex_index % 10000 == 0:\n",
    "            logger.info(\"Writing example %d of %d\" % (ex_index, len(examples)))\n",
    "\n",
    "        #print(example.text_a)\n",
    "        try:\n",
    "            tokens_a = tokenizer.tokenize(example.text_a)\n",
    "        except Exception as e:\n",
    "            print(example.text_a)\n",
    "            print(e)\n",
    "            continuenue\n",
    "\n",
    "        tokens_b = None\n",
    "        if example.text_b:\n",
    "            tokens_b = tokenizer.tokenize(example.text_b)\n",
    "            # Modifies `tokens_a` and `tokens_b` in place so that the total\n",
    "            # length is less than the specified length.\n",
    "            # Account for [CLS], [SEP], [SEP] with \"- 3\"\n",
    "            _truncate_seq_pair(tokens_a, tokens_b, max_seq_length - 3)\n",
    "        else:\n",
    "            # Account for [CLS] and [SEP] with \"- 2\"\n",
    "            if len(tokens_a) > max_seq_length - 2:\n",
    "                tokens_a = tokens_a[:(max_seq_length - 2)]\n",
    "\n",
    "        # The convention in BERT is:\n",
    "        # (a) For sequence pairs:\n",
    "        #  tokens:   [CLS] is this jack ##son ##ville ? [SEP] no it is not . [SEP]\n",
    "        #  type_ids: 0   0  0    0    0     0       0 0    1  1  1  1   1 1\n",
    "        # (b) For single sequences:\n",
    "        #  tokens:   [CLS] the dog is hairy . [SEP]\n",
    "        #  type_ids: 0   0   0   0  0     0 0\n",
    "        #\n",
    "        # Where \"type_ids\" are used to indicate whether this is the first\n",
    "        # sequence or the second sequence. The embedding vectors for `type=0` and\n",
    "        # `type=1` were learned during pre-training and are added to the wordpiece\n",
    "        # embedding vector (and position vector). This is not *strictly* necessary\n",
    "        # since the [SEP] token unambiguously separates the sequences, but it makes\n",
    "        # it easier for the model to learn the concept of sequences.\n",
    "        #\n",
    "        # For classification tasks, the first vector (corresponding to [CLS]) is\n",
    "        # used as as the \"sentence vector\". Note that this only makes sense because\n",
    "        # the entire model is fine-tuned.\n",
    "        tokens = [\"[CLS]\"] + tokens_a + [\"[SEP]\"]\n",
    "        segment_ids = [0] * len(tokens)\n",
    "\n",
    "        if tokens_b:\n",
    "            tokens += tokens_b + [\"[SEP]\"]\n",
    "            segment_ids += [1] * (len(tokens_b) + 1)\n",
    "\n",
    "        input_ids = tokenizer.convert_tokens_to_ids(tokens)\n",
    "\n",
    "        # The mask has 1 for real tokens and 0 for padding tokens. Only real\n",
    "        # tokens are attended to.\n",
    "        input_mask = [1] * len(input_ids)\n",
    "\n",
    "        # Zero-pad up to the sequence length.\n",
    "        padding = [0] * (max_seq_length - len(input_ids))\n",
    "        input_ids += padding\n",
    "        input_mask += padding\n",
    "        segment_ids += padding\n",
    "\n",
    "        assert len(input_ids) == max_seq_length\n",
    "        assert len(input_mask) == max_seq_length\n",
    "        assert len(segment_ids) == max_seq_length\n",
    "\n",
    "        if example.label:\n",
    "            if output_mode == \"classification\":\n",
    "                label_id = label_map[example.label]\n",
    "            elif output_mode == \"regression\":\n",
    "                label_id = float(example.label)\n",
    "            else:\n",
    "                raise KeyError(output_mode)\n",
    "        else:\n",
    "            label_id = None\n",
    "\n",
    "        features.append(\n",
    "                InputFeatures(input_ids=input_ids,\n",
    "                              input_mask=input_mask,\n",
    "                              segment_ids=segment_ids,\n",
    "                              label_id=label_id))\n",
    "    return features"
   ]
  },
  {
   "cell_type": "code",
   "execution_count": 11,
   "metadata": {},
   "outputs": [],
   "source": [
    "def to_dataset(texts_a, texts_b=[], labels=[], tokenizer=tokenizer, seq_len=20):\n",
    "    examples = []\n",
    "    if len(labels) == 0:\n",
    "        if len(texts_b) == 0:\n",
    "            for text in texts_a:\n",
    "                examples.append(\n",
    "                    InputExample(\n",
    "                        guid=hashlib.sha1(text.encode('utf-8')),\n",
    "                        text_a=text, text_b=None,\n",
    "                        labels=None)\n",
    "                )\n",
    "        else:\n",
    "            for text_a, text_b in zip(texts_a, texts_b):\n",
    "                examples.append(\n",
    "                    InputExample(\n",
    "                        guid=hashlib.sha1(text_a.encode('utf-8')),\n",
    "                        text_a=text_a, text_b=text_b,\n",
    "                        labels=None\n",
    "                    )\n",
    "                )\n",
    "    else:\n",
    "        if len(texts_b) == 0:\n",
    "            for text, label in zip(texts_a, labels):\n",
    "                examples.append(\n",
    "                    InputExample(\n",
    "                        guid=hashlib.sha1(text.encode('utf-8')),\n",
    "                        text_a=text, text_b=None,\n",
    "                        labels=label\n",
    "                    )\n",
    "                )\n",
    "        else:\n",
    "            for text_a, text_b, label in zip(texts_a, texts_b, labels):\n",
    "                examples.append(\n",
    "                    InputExample(\n",
    "                        guid=hashlib.sha1(text_a.encode('utf-8')),\n",
    "                        text_a=text_a, text_b=text_b,\n",
    "                        labels=label\n",
    "                    )\n",
    "                )\n",
    "\n",
    "    features = convert_examples_to_features(\n",
    "        examples,\n",
    "        label_list=['news', 'clickbait', 'other'],\n",
    "        tokenizer=tokenizer,\n",
    "        max_seq_length=seq_len,\n",
    "        output_mode='classification'\n",
    "    )\n",
    "    \n",
    "    all_input_ids = torch.tensor([f.input_ids for f in features], dtype=torch.long)\n",
    "    all_input_mask = torch.tensor([f.input_mask for f in features], dtype=torch.long)\n",
    "    all_segment_ids = torch.tensor([f.segment_ids for f in features], dtype=torch.long)\n",
    "    if len(labels) == 0:\n",
    "        return TensorDataset(all_input_ids, all_input_mask, all_segment_ids)\n",
    "    else:\n",
    "        all_label_ids = torch.tensor([f.label_id for f in features], dtype=torch.long)\n",
    "        return TensorDataset(all_input_ids, all_input_mask, all_segment_ids, all_label_ids)"
   ]
  },
  {
   "cell_type": "code",
   "execution_count": 12,
   "metadata": {},
   "outputs": [],
   "source": [
    "def save_bert(model, model_dir='./models/bert-tmp'):\n",
    "    WEIGHTS_NAME = \"pytorch_model.bin\"\n",
    "    CONFIG_NAME = \"bert_config.json\"\n",
    "    model_to_save = model.module if hasattr(model, 'module') else model  # Only save the model it-self\n",
    "\n",
    "     # If we save using the predefined names, we can load using `from_pretrained`\n",
    "    output_model_file = os.path.join(model_dir, WEIGHTS_NAME)\n",
    "    output_config_file = os.path.join(model_dir, CONFIG_NAME)\n",
    "\n",
    "    torch.save(model_to_save.state_dict(), output_model_file)\n",
    "    with open(output_config_file, 'w') as file:\n",
    "        json.dump(vars(model_to_save.config), file)"
   ]
  },
  {
   "cell_type": "code",
   "execution_count": 13,
   "metadata": {},
   "outputs": [],
   "source": [
    "device = torch.device('cuda')"
   ]
  },
  {
   "cell_type": "code",
   "execution_count": 14,
   "metadata": {},
   "outputs": [],
   "source": [
    "#train_dataset = to_dataset(train['title'].astype(str), train['text'].astype(str), train['label'], seq_len=128)\n",
    "#valid_dataset = to_dataset(valid['title'].astype(str), valid['text'].astype(str), valid['label'], seq_len=128)\n",
    "train_dataset = torch.load(\"./train_dataset_128_plus_title.pth\")\n",
    "valid_dataset = torch.load(\"./valid_dataset_128_plus_title.pth\")\n",
    "\n",
    "#torch.save(train_dataset, \"./train_dataset_128_plus_title.pth\")\n",
    "#torch.save(valid_dataset, \"./valid_dataset_128_plus_title.pth\")"
   ]
  },
  {
   "cell_type": "code",
   "execution_count": 15,
   "metadata": {},
   "outputs": [
    {
     "name": "stdout",
     "output_type": "stream",
     "text": [
      "Num of train examples:  19877\n"
     ]
    }
   ],
   "source": [
    "n_train_samples = len(train_dataset)\n",
    "print(\"Num of train examples: \", n_train_samples)"
   ]
  },
  {
   "cell_type": "code",
   "execution_count": 54,
   "metadata": {},
   "outputs": [],
   "source": [
    "params = {\n",
    "    'lr': 1e-5,\n",
    "    'batch_size': 128,\n",
    "    'n_epochs': 60,\n",
    "    'gradient_acc_steps': 2\n",
    "}\n",
    "num_train_optimization_steps: int = int(n_train_samples / params['batch_size'] / params['gradient_acc_steps']) * params['n_epochs']"
   ]
  },
  {
   "cell_type": "code",
   "execution_count": 55,
   "metadata": {},
   "outputs": [],
   "source": [
    "model = BertForSequenceClassification.from_pretrained(\"bert-base-uncased\", num_labels=3)\n",
    "\n",
    "model.half()\n",
    "model = model.to(device)\n",
    "\n",
    "model = model.train()\n",
    "\n",
    "param_optimizer = list(model.named_parameters())\n",
    "no_decay = ['bias', 'LayerNorm.bias', 'LayerNorm.weight']\n",
    "optimizer_grouped_parameters = [\n",
    "    {'params': [p for n, p in param_optimizer if not any(nd in n for nd in no_decay)], 'weight_decay': 0.01},\n",
    "    {'params': [p for n, p in param_optimizer if any(nd in n for nd in no_decay)], 'weight_decay': 0.0}\n",
    "]\n",
    "\n",
    "optimizer = FusedAdam(optimizer_grouped_parameters, lr=params['lr'], bias_correction=False, max_grad_norm=1.0)\n",
    "optimizer = FP16_Optimizer(optimizer, dynamic_loss_scale=True)"
   ]
  },
  {
   "cell_type": "code",
   "execution_count": 56,
   "metadata": {},
   "outputs": [],
   "source": [
    "torch.cuda.manual_seed_all(42)\n",
    "torch.manual_seed(42)\n",
    "np.random.seed(42)"
   ]
  },
  {
   "cell_type": "code",
   "execution_count": 57,
   "metadata": {},
   "outputs": [],
   "source": [
    "train_sampler = RandomSampler(train_dataset)\n",
    "valid_sampler = SequentialSampler(valid_dataset)\n",
    "\n",
    "train_dataloader = DataLoader(train_dataset, sampler=train_sampler, batch_size=params['batch_size'])\n",
    "valid_dataloader = DataLoader(valid_dataset, sampler=valid_sampler, batch_size=params['batch_size'])"
   ]
  },
  {
   "cell_type": "code",
   "execution_count": 58,
   "metadata": {},
   "outputs": [],
   "source": [
    "global_step = 0\n",
    "nb_tr_steps = 0\n",
    "tr_loss = 0"
   ]
  },
  {
   "cell_type": "code",
   "execution_count": 61,
   "metadata": {},
   "outputs": [
    {
     "name": "stdout",
     "output_type": "stream",
     "text": [
      "[-1, 0.7050575828880619, 0.7288942833750354, 0.7455899921442185, 0.7639141211423398, 0.7563283836293252, 0.10684904351273665, 0.10684904351273665, 0.746050024811984, 0.6714329586038107, 0.7684720301922203, 0.7600649691462161, 0.7652313903893949, 0.7183338308270851, 0.7931381813930866, 0.7671942446043166, 0.7718973100202647, 0.7840931471736914, 0.7727988471989565, 0.7709787924484569, 0.7924420559886504, 0.7580348975647717, 0.7870048360273341, 0.795169479786562, 0.7937993927423835, 0.7888781889188001, 0.7898780878717666, 0.7654579737281438, 0.7972890592036626, 0.7837152248089295, 0.7874673517498657, 0.7829934278061739, 0.7885180062084767, 0.7836741901351701, 0.7775151992508751, 0.7856038269269051, 0.7741642509814469, 0.7858336192322547, 0.7874412769408526, 0.7898636579597996, 0.7821672480914458, 0.7906254487620631, 0.7897861142348958, 0.7893968347479698, 0.7893950342757776, 0.7888775588029681, 0.7888129465202233, 0.7888129465202233, 0.7885544069815088, 0.788353065683301, 0.7880936308285111, 0.7878345114926758, 0.7880936308285111, 0.7878345114926758, 0.7880936308285111, 0.7884183023688668, 0.7880936308285111, 0.7880936308285111, 0.7880936308285111, 0.7880936308285111, 0.7880936308285111, 0.7886128171902739, 0.788353065683301, 0.7884183023688668, 0.7878345114926758, 0.7878345114926758, 0.788353065683301, 0.788353065683301, 0.7880936308285111, 0.7886128171902739, 0.7886128171902739, 0.788353065683301, 0.7886128171902739]\n"
     ]
    }
   ],
   "source": [
    "print(fscore)"
   ]
  },
  {
   "cell_type": "code",
   "execution_count": 62,
   "metadata": {},
   "outputs": [
    {
     "data": {
      "text/plain": [
       "0.7972890592036626"
      ]
     },
     "execution_count": 62,
     "metadata": {},
     "output_type": "execute_result"
    }
   ],
   "source": [
    "max(fscore)"
   ]
  },
  {
   "cell_type": "code",
   "execution_count": 38,
   "metadata": {},
   "outputs": [],
   "source": [
    "fscore = [-1]"
   ]
  },
  {
   "cell_type": "code",
   "execution_count": null,
   "metadata": {},
   "outputs": [
    {
     "data": {
      "application/vnd.jupyter.widget-view+json": {
       "model_id": "ca22180d83604a829b473e96d1373eb1",
       "version_major": 2,
       "version_minor": 0
      },
      "text/plain": [
       "HBox(children=(IntProgress(value=0, description='Epoch', max=60, style=ProgressStyle(description_width='initia…"
      ]
     },
     "metadata": {},
     "output_type": "display_data"
    },
    {
     "data": {
      "application/vnd.jupyter.widget-view+json": {
       "model_id": "4f5914796ed141b48a78476a5fd11e24",
       "version_major": 2,
       "version_minor": 0
      },
      "text/plain": [
       "HBox(children=(IntProgress(value=0, description='Training', max=156, style=ProgressStyle(description_width='in…"
      ]
     },
     "metadata": {},
     "output_type": "display_data"
    },
    {
     "name": "stdout",
     "output_type": "stream",
     "text": [
      "\n",
      "Grad overflow on iteration 0\n",
      "Using dynamic loss scale of 65536\n"
     ]
    },
    {
     "data": {
      "application/vnd.jupyter.widget-view+json": {
       "model_id": "d661ce3f086f4efbafb9d1f676e6ce61",
       "version_major": 2,
       "version_minor": 0
      },
      "text/plain": [
       "HBox(children=(IntProgress(value=0, description='Validating', max=23, style=ProgressStyle(description_width='i…"
      ]
     },
     "metadata": {},
     "output_type": "display_data"
    },
    {
     "name": "stdout",
     "output_type": "stream",
     "text": [
      "Mean Train Loss: 0.7269506209935898\n",
      "Mean Valid Loss: 0.40956978175951086\n",
      "Valid F1:        0.7183338308270851\n",
      "========================================\n"
     ]
    },
    {
     "data": {
      "application/vnd.jupyter.widget-view+json": {
       "model_id": "54d1a73a0f3240b483820e4388806362",
       "version_major": 2,
       "version_minor": 0
      },
      "text/plain": [
       "HBox(children=(IntProgress(value=0, description='Training', max=156, style=ProgressStyle(description_width='in…"
      ]
     },
     "metadata": {},
     "output_type": "display_data"
    },
    {
     "data": {
      "application/vnd.jupyter.widget-view+json": {
       "model_id": "20c8aa76c7b0486ead4feacefdd3d6ef",
       "version_major": 2,
       "version_minor": 0
      },
      "text/plain": [
       "HBox(children=(IntProgress(value=0, description='Validating', max=23, style=ProgressStyle(description_width='i…"
      ]
     },
     "metadata": {},
     "output_type": "display_data"
    },
    {
     "name": "stdout",
     "output_type": "stream",
     "text": [
      "f-score improved, saving model\n",
      "Mean Train Loss: 0.3642632900140224\n",
      "Mean Valid Loss: 0.36037809952445654\n",
      "Valid F1:        0.7931381813930866\n",
      "========================================\n"
     ]
    },
    {
     "data": {
      "application/vnd.jupyter.widget-view+json": {
       "model_id": "1be0516838904fb3904f8a8735dcd861",
       "version_major": 2,
       "version_minor": 0
      },
      "text/plain": [
       "HBox(children=(IntProgress(value=0, description='Training', max=156, style=ProgressStyle(description_width='in…"
      ]
     },
     "metadata": {},
     "output_type": "display_data"
    },
    {
     "data": {
      "application/vnd.jupyter.widget-view+json": {
       "model_id": "80c72a2a86624c1e94b8e2c673e84b9b",
       "version_major": 2,
       "version_minor": 0
      },
      "text/plain": [
       "HBox(children=(IntProgress(value=0, description='Validating', max=23, style=ProgressStyle(description_width='i…"
      ]
     },
     "metadata": {},
     "output_type": "display_data"
    },
    {
     "name": "stdout",
     "output_type": "stream",
     "text": [
      "Mean Train Loss: 0.2173794477413862\n",
      "Mean Valid Loss: 0.4279380466627038\n",
      "Valid F1:        0.7671942446043166\n",
      "========================================\n"
     ]
    },
    {
     "data": {
      "application/vnd.jupyter.widget-view+json": {
       "model_id": "a0d296be9ada4ae581ceb1bd349e7c8c",
       "version_major": 2,
       "version_minor": 0
      },
      "text/plain": [
       "HBox(children=(IntProgress(value=0, description='Training', max=156, style=ProgressStyle(description_width='in…"
      ]
     },
     "metadata": {},
     "output_type": "display_data"
    },
    {
     "data": {
      "application/vnd.jupyter.widget-view+json": {
       "model_id": "47c84e70818846ba986e53a34984b25d",
       "version_major": 2,
       "version_minor": 0
      },
      "text/plain": [
       "HBox(children=(IntProgress(value=0, description='Validating', max=23, style=ProgressStyle(description_width='i…"
      ]
     },
     "metadata": {},
     "output_type": "display_data"
    },
    {
     "name": "stdout",
     "output_type": "stream",
     "text": [
      "Mean Train Loss: 0.0903628911727514\n",
      "Mean Valid Loss: 0.6319354513417119\n",
      "Valid F1:        0.7718973100202647\n",
      "========================================\n"
     ]
    },
    {
     "data": {
      "application/vnd.jupyter.widget-view+json": {
       "model_id": "83b84d3767824aec8a73b91a8291e10b",
       "version_major": 2,
       "version_minor": 0
      },
      "text/plain": [
       "HBox(children=(IntProgress(value=0, description='Training', max=156, style=ProgressStyle(description_width='in…"
      ]
     },
     "metadata": {},
     "output_type": "display_data"
    },
    {
     "data": {
      "application/vnd.jupyter.widget-view+json": {
       "model_id": "c90e4b4a9978461db13e50ac251c3031",
       "version_major": 2,
       "version_minor": 0
      },
      "text/plain": [
       "HBox(children=(IntProgress(value=0, description='Validating', max=23, style=ProgressStyle(description_width='i…"
      ]
     },
     "metadata": {},
     "output_type": "display_data"
    },
    {
     "name": "stdout",
     "output_type": "stream",
     "text": [
      "Mean Train Loss: 0.059649002857697316\n",
      "Mean Valid Loss: 0.7130889892578125\n",
      "Valid F1:        0.7840931471736914\n",
      "========================================\n"
     ]
    },
    {
     "data": {
      "application/vnd.jupyter.widget-view+json": {
       "model_id": "f670c04253914331902015d4c03ab121",
       "version_major": 2,
       "version_minor": 0
      },
      "text/plain": [
       "HBox(children=(IntProgress(value=0, description='Training', max=156, style=ProgressStyle(description_width='in…"
      ]
     },
     "metadata": {},
     "output_type": "display_data"
    },
    {
     "data": {
      "application/vnd.jupyter.widget-view+json": {
       "model_id": "d40875377973415ebd7b53f61ee7955f",
       "version_major": 2,
       "version_minor": 0
      },
      "text/plain": [
       "HBox(children=(IntProgress(value=0, description='Validating', max=23, style=ProgressStyle(description_width='i…"
      ]
     },
     "metadata": {},
     "output_type": "display_data"
    },
    {
     "name": "stdout",
     "output_type": "stream",
     "text": [
      "Mean Train Loss: 0.05261426094250801\n",
      "Mean Valid Loss: 0.8022059565005095\n",
      "Valid F1:        0.7727988471989565\n",
      "========================================\n"
     ]
    },
    {
     "data": {
      "application/vnd.jupyter.widget-view+json": {
       "model_id": "46d7827292cf42249ca980cc40a4505c",
       "version_major": 2,
       "version_minor": 0
      },
      "text/plain": [
       "HBox(children=(IntProgress(value=0, description='Training', max=156, style=ProgressStyle(description_width='in…"
      ]
     },
     "metadata": {},
     "output_type": "display_data"
    },
    {
     "data": {
      "application/vnd.jupyter.widget-view+json": {
       "model_id": "e93bc0772fcd4d89af6f2c16a8d190fb",
       "version_major": 2,
       "version_minor": 0
      },
      "text/plain": [
       "HBox(children=(IntProgress(value=0, description='Validating', max=23, style=ProgressStyle(description_width='i…"
      ]
     },
     "metadata": {},
     "output_type": "display_data"
    },
    {
     "name": "stdout",
     "output_type": "stream",
     "text": [
      "Mean Train Loss: 0.04683087422297551\n",
      "Mean Valid Loss: 0.6753173496412195\n",
      "Valid F1:        0.7709787924484569\n",
      "========================================\n"
     ]
    },
    {
     "data": {
      "application/vnd.jupyter.widget-view+json": {
       "model_id": "92c2215c2a95466bab15640d0ad23834",
       "version_major": 2,
       "version_minor": 0
      },
      "text/plain": [
       "HBox(children=(IntProgress(value=0, description='Training', max=156, style=ProgressStyle(description_width='in…"
      ]
     },
     "metadata": {},
     "output_type": "display_data"
    },
    {
     "data": {
      "application/vnd.jupyter.widget-view+json": {
       "model_id": "27be3372c350438dba5c20a3d9ce6485",
       "version_major": 2,
       "version_minor": 0
      },
      "text/plain": [
       "HBox(children=(IntProgress(value=0, description='Validating', max=23, style=ProgressStyle(description_width='i…"
      ]
     },
     "metadata": {},
     "output_type": "display_data"
    },
    {
     "name": "stdout",
     "output_type": "stream",
     "text": [
      "Mean Train Loss: 0.029655927266830053\n",
      "Mean Valid Loss: 0.6775183884993844\n",
      "Valid F1:        0.7924420559886504\n",
      "========================================\n"
     ]
    },
    {
     "data": {
      "application/vnd.jupyter.widget-view+json": {
       "model_id": "2b991de3272d414cb3c23c3adf6ded39",
       "version_major": 2,
       "version_minor": 0
      },
      "text/plain": [
       "HBox(children=(IntProgress(value=0, description='Training', max=156, style=ProgressStyle(description_width='in…"
      ]
     },
     "metadata": {},
     "output_type": "display_data"
    },
    {
     "data": {
      "application/vnd.jupyter.widget-view+json": {
       "model_id": "2fcaaef18f034139aab6cc33b1a50214",
       "version_major": 2,
       "version_minor": 0
      },
      "text/plain": [
       "HBox(children=(IntProgress(value=0, description='Validating', max=23, style=ProgressStyle(description_width='i…"
      ]
     },
     "metadata": {},
     "output_type": "display_data"
    },
    {
     "name": "stdout",
     "output_type": "stream",
     "text": [
      "Mean Train Loss: 0.02651399526840601\n",
      "Mean Valid Loss: 0.947800346042799\n",
      "Valid F1:        0.7580348975647717\n",
      "========================================\n"
     ]
    },
    {
     "data": {
      "application/vnd.jupyter.widget-view+json": {
       "model_id": "cd69968c13a441ea90a8a122cb332b01",
       "version_major": 2,
       "version_minor": 0
      },
      "text/plain": [
       "HBox(children=(IntProgress(value=0, description='Training', max=156, style=ProgressStyle(description_width='in…"
      ]
     },
     "metadata": {},
     "output_type": "display_data"
    }
   ],
   "source": [
    "for ep_num in tqdm(range(params['n_epochs']), desc=\"Epoch\"):\n",
    "    tr_loss = 0\n",
    "    nb_tr_examples, nb_tr_steps = 0, 0\n",
    "    for step, batch in enumerate(tqdm(train_dataloader, desc=\"Training\")):\n",
    "        batch = tuple(t.to(device) for t in batch)\n",
    "        input_ids, input_mask, segment_ids, label_ids = batch\n",
    "        \n",
    "        logits = model(input_ids, segment_ids, input_mask, labels=None)\n",
    "        #print(logits.shape)\n",
    "        loss_fct = nn.CrossEntropyLoss()\n",
    "        loss = loss_fct(logits.view(-1, 3), label_ids.view(-1))\n",
    "\n",
    "        optimizer.backward(loss)\n",
    "\n",
    "        tr_loss += loss.item()\n",
    "        nb_tr_examples += input_ids.size(0)\n",
    "        nb_tr_steps += 1\n",
    "        \n",
    "        if (step + 1) % params['gradient_acc_steps'] == 0:\n",
    "            lr_this_step = 1e-4 * warmup_linear(global_step/num_train_optimization_steps, 0.1)\n",
    "            for param_group in optimizer.param_groups:\n",
    "                param_group['lr'] = lr_this_step\n",
    "            optimizer.step()\n",
    "            optimizer.zero_grad()\n",
    "            global_step += 1\n",
    "        \n",
    "    val_loss = 0\n",
    "    val_steps = 0\n",
    "    val_examples = 0\n",
    "    model.eval()\n",
    "    labels = []\n",
    "    predictions = []\n",
    "    with torch.no_grad():\n",
    "        for step, batch in enumerate(tqdm(valid_dataloader, desc='Validating')):\n",
    "            batch = tuple(t.to(device) for t in batch)\n",
    "            input_ids, input_mask, segment_ids, label_ids = batch\n",
    "\n",
    "            logits = model(input_ids, segment_ids, input_mask, labels=None)\n",
    "            #print(logits.shape)\n",
    "            loss_fct = nn.CrossEntropyLoss()\n",
    "            loss = loss_fct(logits.view(-1, 3), label_ids.view(-1))\n",
    "            y_pred = torch.argmax(logits, dim=-1)\n",
    "            # move from GPU to CPU and convert to numpy array\n",
    "            y_pred_numpy = y_pred.cpu().numpy()\n",
    "\n",
    "            predictions = np.concatenate([predictions, y_pred_numpy])\n",
    "            labels = np.concatenate([labels, label_ids.cpu().numpy()])\n",
    "            \n",
    "            val_loss += float(loss)\n",
    "            val_steps += 1\n",
    "            val_examples += input_ids.size(0)\n",
    "            \n",
    "    fsc = skm.f1_score(labels, predictions, average='macro')\n",
    "    if fsc > max(fscore):\n",
    "        print(f'f-score improved, saving model')\n",
    "        save_bert(model)\n",
    "        fscore.append(fsc)\n",
    "    else:\n",
    "        fscore.append(fsc)\n",
    "\n",
    "    print(f\"Mean Train Loss: {tr_loss/nb_tr_steps}\")\n",
    "    print(f\"Mean Valid Loss: {val_loss/val_steps}\")\n",
    "    print(f\"Valid F1:        {skm.f1_score(labels, predictions, average='macro')}\")\n",
    "    print(\"=\"*40)"
   ]
  },
  {
   "cell_type": "code",
   "execution_count": 63,
   "metadata": {},
   "outputs": [],
   "source": [
    "# Load a trained model and vocabulary that you have fine-tuned\n",
    "model = BertForSequenceClassification.from_pretrained(\"./models/bert-tmp/\", num_labels=3)"
   ]
  },
  {
   "cell_type": "code",
   "execution_count": 64,
   "metadata": {},
   "outputs": [
    {
     "data": {
      "text/plain": [
       "0.7886128171902739"
      ]
     },
     "execution_count": 64,
     "metadata": {},
     "output_type": "execute_result"
    }
   ],
   "source": [
    "skm.f1_score(labels, predictions, average='macro')"
   ]
  },
  {
   "cell_type": "markdown",
   "metadata": {
    "_uuid": "f7cc7270d3f85d12014b24f17ee91bc34f1a5f2e"
   },
   "source": [
    "It can be really hard to beat SVM at text classification, but it is almost always possible with neural network.\n",
    "This neural network may have slightly worse metrics than SVM. However, you can tweak hyperparameters and number of epochs or to change network architecture to get better results."
   ]
  },
  {
   "cell_type": "code",
   "execution_count": null,
   "metadata": {},
   "outputs": [
    {
     "data": {
      "application/vnd.jupyter.widget-view+json": {
       "model_id": "edcdedfb88064006a55e6cfd639e6d9c",
       "version_major": 2,
       "version_minor": 0
      },
      "text/plain": [
       "HBox(children=(IntProgress(value=1, bar_style='info', max=1), HTML(value='')))"
      ]
     },
     "metadata": {},
     "output_type": "display_data"
    }
   ],
   "source": [
    "test_dataset = to_dataset(test['text'].astype(str), test['title'].astype(str), seq_len=128)"
   ]
  },
  {
   "cell_type": "code",
   "execution_count": null,
   "metadata": {},
   "outputs": [],
   "source": [
    "test_sampler = SequentialSampler(test_dataset)\n",
    "test_loader = DataLoader(test_dataset, sampler=test_sampler, batch_size=128)"
   ]
  },
  {
   "cell_type": "code",
   "execution_count": null,
   "metadata": {},
   "outputs": [],
   "source": [
    "index2label = ['news', 'clickbait', 'other']"
   ]
  },
  {
   "cell_type": "markdown",
   "metadata": {
    "_uuid": "6e4277f492131dfa66c506336e21f3d608f4e3b5"
   },
   "source": [
    "## Make predictions on test set"
   ]
  },
  {
   "cell_type": "code",
   "execution_count": null,
   "metadata": {
    "_uuid": "bacd4a023f01ea55f01c93319f8c6400e49be5e1"
   },
   "outputs": [],
   "source": [
    "predictions = []\n",
    "\n",
    "model.eval()\n",
    "model.to(device)\n",
    "with torch.no_grad():\n",
    "    for batch in tqdm(test_loader):\n",
    "        input_ids, input_mask, segment_ids = batch\n",
    "        input_ids = input_ids.to(device)\n",
    "        input_mask = input_mask.to(device)\n",
    "        segment_ids = segment_ids.to(device)\n",
    "        logits = model(input_ids, segment_ids, input_mask, labels=None)\n",
    "\n",
    "        y_pred = torch.argmax(logits, dim=1)\n",
    "        # move from GPU to CPU and convert to numpy array\n",
    "        y_pred_numpy = y_pred.cpu().numpy()\n",
    "\n",
    "        predictions = np.concatenate([predictions, y_pred_numpy])\n"
   ]
  },
  {
   "cell_type": "code",
   "execution_count": null,
   "metadata": {
    "_uuid": "cde33292cd94cce332f1028af2656d7affaaaabb"
   },
   "outputs": [],
   "source": [
    "predictions_str = [index2label[int(p)] for p in predictions]\n",
    "\n",
    "# test.csv index in a contiguous integers from 0 to len(test_set)\n",
    "# to this should work fine\n",
    "submission = pd.DataFrame({'id': list(range(len(predictions_str))), 'label': predictions_str})\n",
    "submission.to_csv('submission_bert_uncased_plus_title-0.csv', index=False)\n",
    "submission.head()"
   ]
  },
  {
   "cell_type": "code",
   "execution_count": 31,
   "metadata": {},
   "outputs": [
    {
     "data": {
      "text/html": [
       "<div>\n",
       "<style scoped>\n",
       "    .dataframe tbody tr th:only-of-type {\n",
       "        vertical-align: middle;\n",
       "    }\n",
       "\n",
       "    .dataframe tbody tr th {\n",
       "        vertical-align: top;\n",
       "    }\n",
       "\n",
       "    .dataframe thead th {\n",
       "        text-align: right;\n",
       "    }\n",
       "</style>\n",
       "<table border=\"1\" class=\"dataframe\">\n",
       "  <thead>\n",
       "    <tr style=\"text-align: right;\">\n",
       "      <th></th>\n",
       "      <th>Unnamed: 0</th>\n",
       "      <th>title</th>\n",
       "      <th>text</th>\n",
       "    </tr>\n",
       "  </thead>\n",
       "  <tbody>\n",
       "    <tr>\n",
       "      <th>0</th>\n",
       "      <td>0</td>\n",
       "      <td>Amazon CEO Jeff Bezos is now the second riches...</td>\n",
       "      <td>More Try Yahoo Finance on Firefox » Amazon CEO...</td>\n",
       "    </tr>\n",
       "    <tr>\n",
       "      <th>1</th>\n",
       "      <td>1</td>\n",
       "      <td>Does Laura Dern Handle a Lightsaber in the New...</td>\n",
       "      <td>More Laura Dern seems to be everywhere these d...</td>\n",
       "    </tr>\n",
       "    <tr>\n",
       "      <th>2</th>\n",
       "      <td>2</td>\n",
       "      <td>In this photographer’s home town, stepping out...</td>\n",
       "      <td>Kirkuk is a city of Northern Iraq in the Kurdi...</td>\n",
       "    </tr>\n",
       "    <tr>\n",
       "      <th>3</th>\n",
       "      <td>3</td>\n",
       "      <td>8 Ways To Get Your Spouse To Open Up More, Acc...</td>\n",
       "      <td>Experts say that communication is the cornerst...</td>\n",
       "    </tr>\n",
       "    <tr>\n",
       "      <th>4</th>\n",
       "      <td>4</td>\n",
       "      <td>US says claim it supported IS in Syria is 'lud...</td>\n",
       "      <td>Share this with Email Facebook Messenger Messe...</td>\n",
       "    </tr>\n",
       "  </tbody>\n",
       "</table>\n",
       "</div>"
      ],
      "text/plain": [
       "   Unnamed: 0                                              title  \\\n",
       "0           0  Amazon CEO Jeff Bezos is now the second riches...   \n",
       "1           1  Does Laura Dern Handle a Lightsaber in the New...   \n",
       "2           2  In this photographer’s home town, stepping out...   \n",
       "3           3  8 Ways To Get Your Spouse To Open Up More, Acc...   \n",
       "4           4  US says claim it supported IS in Syria is 'lud...   \n",
       "\n",
       "                                                text  \n",
       "0  More Try Yahoo Finance on Firefox » Amazon CEO...  \n",
       "1  More Laura Dern seems to be everywhere these d...  \n",
       "2  Kirkuk is a city of Northern Iraq in the Kurdi...  \n",
       "3  Experts say that communication is the cornerst...  \n",
       "4  Share this with Email Facebook Messenger Messe...  "
      ]
     },
     "execution_count": 31,
     "metadata": {},
     "output_type": "execute_result"
    }
   ],
   "source": [
    "test.head()"
   ]
  },
  {
   "cell_type": "code",
   "execution_count": 32,
   "metadata": {},
   "outputs": [
    {
     "data": {
      "text/plain": [
       "news         5180\n",
       "other         384\n",
       "clickbait      83\n",
       "Name: label, dtype: int64"
      ]
     },
     "execution_count": 32,
     "metadata": {},
     "output_type": "execute_result"
    }
   ],
   "source": [
    "submission.label.value_counts()"
   ]
  },
  {
   "cell_type": "code",
   "execution_count": null,
   "metadata": {},
   "outputs": [],
   "source": []
  }
 ],
 "metadata": {
  "kernelspec": {
   "display_name": "Python 3",
   "language": "python",
   "name": "python3"
  },
  "language_info": {
   "codemirror_mode": {
    "name": "ipython",
    "version": 3
   },
   "file_extension": ".py",
   "mimetype": "text/x-python",
   "name": "python",
   "nbconvert_exporter": "python",
   "pygments_lexer": "ipython3",
   "version": "3.7.1"
  }
 },
 "nbformat": 4,
 "nbformat_minor": 1
}
