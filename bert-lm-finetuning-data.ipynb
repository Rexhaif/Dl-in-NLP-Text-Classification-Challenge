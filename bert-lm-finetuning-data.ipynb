{
 "cells": [
  {
   "cell_type": "code",
   "execution_count": 1,
   "metadata": {},
   "outputs": [],
   "source": [
    "import pandas as pd\n",
    "import nltk\n",
    "from pprint import pprint\n",
    "\n",
    "from tqdm import tqdm_notebook as tqdm"
   ]
  },
  {
   "cell_type": "code",
   "execution_count": 6,
   "metadata": {},
   "outputs": [
    {
     "name": "stderr",
     "output_type": "stream",
     "text": [
      "[nltk_data] Downloading package punkt to /home/rexhaif/nltk_data...\n",
      "[nltk_data]   Package punkt is already up-to-date!\n"
     ]
    },
    {
     "data": {
      "text/plain": [
       "True"
      ]
     },
     "execution_count": 6,
     "metadata": {},
     "output_type": "execute_result"
    }
   ],
   "source": [
    "nltk.download('punkt')"
   ]
  },
  {
   "cell_type": "code",
   "execution_count": 3,
   "metadata": {},
   "outputs": [],
   "source": [
    "unlabeled_data = pd.read_csv(\"./unlabeled_news.csv\")"
   ]
  },
  {
   "cell_type": "markdown",
   "metadata": {},
   "source": [
    "# Sample document from corpus"
   ]
  },
  {
   "cell_type": "code",
   "execution_count": 5,
   "metadata": {},
   "outputs": [
    {
     "name": "stdout",
     "output_type": "stream",
     "text": [
      "('Economists generally agree: China must overhaul its huge but wasteful '\n",
      " 'economy if it wants to continue to grow in the years to come. That means '\n",
      " 'limiting political interference in banking and the financial system, making '\n",
      " 'bloated industries more sensitive to market forces and lowering barriers '\n",
      " 'against foreign trade and investment. Proponents took heart in late 2012 '\n",
      " 'when President Xi Jinping took formal control of the Chinese Communist Party '\n",
      " 'with pledges to crack down on corruption and cut red tape. Today, as Mr. Xi '\n",
      " 'nears the end of his first five-year term, much of the optimism among '\n",
      " 'economists has faded. China remains heavily dependent on large investments '\n",
      " 'and has maintained brisk but slowing economic growth only with a steep rise '\n",
      " 'in government-steered lending. Still, his administration has made some small '\n",
      " 'changes, and there have been hints that Mr. Xi may focus more on economic '\n",
      " 'overhauls when he starts his second term. Here is what Mr. Xi has done so '\n",
      " 'far — and, more important, what he has not done. Reforms: Experts give some '\n",
      " 'credit for China’s moves on currency. Beijing persuaded the International '\n",
      " 'Monetary Fund in 2015 to admit its currency, the renminbi, to an elite club '\n",
      " 'of currencies in which central banks hold their reserves. To win approval, '\n",
      " 'China made it much easier to move money in and out of the country, and '\n",
      " 'shifted the daily pegging of the renminbi to the dollar to a slightly more '\n",
      " 'market-based system. Lingering problems: Those moves have been in doubt '\n",
      " 'lately. Opening up money flows led so many Chinese families and companies to '\n",
      " 'send their money out of the country that the renminbi weakened against the '\n",
      " 'dollar and the Chinese government had to spend nearly $1 trillion to prop it '\n",
      " 'up. In the past 12 months, Beijing has reimposed many restrictions on '\n",
      " 'sending money out of the country. Reforms: Faced early last year with a huge '\n",
      " 'supply of unsold real estate and stalling construction, Beijing decided to '\n",
      " 'make it much easier for banks to issue mortgages. This set off a buying '\n",
      " 'frenzy in big cities that slightly pared the backlog of empty apartments. '\n",
      " 'Lingering problems: What looked like a bubble before looks like one even '\n",
      " 'more so now. Beijing and Shanghai already have some of the world’s highest '\n",
      " 'real estate prices in relation to local incomes. Developers are still '\n",
      " 'heavily in debt. Reforms: China made limited moves to allow foreigners to '\n",
      " 'trade more extensively in the bond market, hedge their currency risk and '\n",
      " 'connect its stock markets in Shanghai and Shenzhen with Hong Kong, which has '\n",
      " 'long served as China’s financial gateway to the rest of the world. Local '\n",
      " 'governments have been discouraged from setting up companies that borrow '\n",
      " 'heavily to pay for public works. Lingering problems: Any moves to open up '\n",
      " 'have been overshadowed by tighter government control after a 2015 stock '\n",
      " 'market crash. A major stock market index passed on including Chinese stocks, '\n",
      " 'citing the need for further improvements. New public-private partnerships '\n",
      " 'have emerged to continue China’s borrowing spree. While Chinese officials '\n",
      " 'had hoped that the private partners would force local governments to make '\n",
      " 'wiser and more cautious investments, the initial “private” partners have '\n",
      " 'tended to be state-owned enterprises, which typically share local '\n",
      " 'governments’ interest in borrowing heavily to create jobs. Reforms: China '\n",
      " 'has moved to help banks plagued by a rising tide of bad loans. Banks have '\n",
      " 'been allowed to swap a few of those unpaid loans for equity stakes in '\n",
      " 'troubled borrowers. Asset management companies have been buying some bad '\n",
      " 'loans from banks. Banks have been given growing discretion to set interest '\n",
      " 'rates based on the creditworthiness of borrowers. The interest rates that '\n",
      " 'banks pay on deposits have been deregulated, allowing a competition among '\n",
      " 'banks that benefits depositors. Lingering problems: Those moves are not '\n",
      " 'enough. Banks still face a large overhang of loans to money-losing companies '\n",
      " 'with little hope of repayment. Banks continue to roll over loans to troubled '\n",
      " 'borrowers and extend huge loans to politically connected borrowers, '\n",
      " 'including influential private companies as well as state-owned enterprises. '\n",
      " 'If the economy does slow sharply, the mountain of bad loans will grow much '\n",
      " 'more. At the same time, entrepreneurs continue to complain that the system '\n",
      " 'denies them the access to cheap money that they need to grow. Reforms: China '\n",
      " 'has modestly reduced its steel-making and coal-mining capacity. Lingering '\n",
      " 'problems: It has a lot more work to do. China still has roughly the same '\n",
      " 'steel-making capacity as the rest of the world combined. China still has too '\n",
      " 'many coal mines given its long-term plans to shift to more solar, wind and '\n",
      " 'nuclear energy. In many other industrial sectors, intense competition and '\n",
      " 'slowing economic growth have curbed private investment. Reforms: Pay has '\n",
      " 'been limited for top executives. A few enterprises have been merged, notably '\n",
      " 'in rail equipment, to limit the extent to which they compete with one '\n",
      " 'another for overseas sales. Lingering problems: China’s state-run companies '\n",
      " 'remain bloated and inefficient. Monopolies and oligopolies continue to '\n",
      " 'dominate large sectors of the economy, like telecommunications and power '\n",
      " 'transmission. State-owned enterprises in sectors like steel making and coal '\n",
      " 'mining tend to focus mainly on preserving employment for their workers, no '\n",
      " 'matter how much money they need to borrow from state-controlled banks to '\n",
      " 'cover financial losses. And those pay limits? They may drive talented '\n",
      " 'leaders to the private sector. Reforms: Faced with a shrinking labor force '\n",
      " 'and a population that is rapidly graying, Mr. Xi ended China’s notorious '\n",
      " 'one-child policy, with its fines and forced abortions, and his government '\n",
      " 'has even begun mulling whether to offer incentives for families to have a '\n",
      " 'second child. Lingering problems: The labor force will continue to shrink '\n",
      " 'for decades, presenting a serious drag on economic growth. Reforms: The '\n",
      " 'government has made it easier for migrant workers from rural areas to obtain '\n",
      " 'residency and access to social benefits in medium-size and smaller cities. '\n",
      " 'The government is preparing to move the municipal bureaucracy of Beijing at '\n",
      " 'the end of this year to an outlying suburb as part of an experiment aimed at '\n",
      " 'testing whether it can build satellite cities around major metropolitan '\n",
      " 'centers. Lingering problems: Rural migrants still have little hope of '\n",
      " 'gaining residency in big cities like Beijing and Shanghai. Without '\n",
      " 'residency, their access to medical insurance, education for their children '\n",
      " 'and other benefits is limited.')\n"
     ]
    }
   ],
   "source": [
    "text = unlabeled_data['text'][0]\n",
    "pprint(text)"
   ]
  },
  {
   "cell_type": "markdown",
   "metadata": {},
   "source": [
    "# Sentence splitting"
   ]
  },
  {
   "cell_type": "code",
   "execution_count": 7,
   "metadata": {},
   "outputs": [],
   "source": [
    "tok = nltk.tokenize"
   ]
  },
  {
   "cell_type": "code",
   "execution_count": 7,
   "metadata": {},
   "outputs": [
    {
     "data": {
      "text/plain": [
       "['Economists generally agree: China must overhaul its huge but wasteful economy if it wants to continue to grow in the years to come.',\n",
       " 'That means limiting political interference in banking and the financial system, making bloated industries more sensitive to market forces and lowering barriers against foreign trade and investment.',\n",
       " 'Proponents took heart in late 2012 when President Xi Jinping took formal control of the Chinese Communist Party with pledges to crack down on corruption and cut red tape.',\n",
       " 'Today, as Mr. Xi nears the end of his first five-year term, much of the optimism among economists has faded.',\n",
       " 'China remains heavily dependent on large investments and has maintained brisk but slowing economic growth only with a steep rise in government-steered lending.',\n",
       " 'Still, his administration has made some small changes, and there have been hints that Mr. Xi may focus more on economic overhauls when he starts his second term.',\n",
       " 'Here is what Mr. Xi has done so far — and, more important, what he has not done.',\n",
       " 'Reforms: Experts give some credit for China’s moves on currency.',\n",
       " 'Beijing persuaded the International Monetary Fund in 2015 to admit its currency, the renminbi, to an elite club of currencies in which central banks hold their reserves.',\n",
       " 'To win approval, China made it much easier to move money in and out of the country, and shifted the daily pegging of the renminbi to the dollar to a slightly more market-based system.',\n",
       " 'Lingering problems: Those moves have been in doubt lately.',\n",
       " 'Opening up money flows led so many Chinese families and companies to send their money out of the country that the renminbi weakened against the dollar and the Chinese government had to spend nearly $1 trillion to prop it up.',\n",
       " 'In the past 12 months, Beijing has reimposed many restrictions on sending money out of the country.',\n",
       " 'Reforms: Faced early last year with a huge supply of unsold real estate and stalling construction, Beijing decided to make it much easier for banks to issue mortgages.',\n",
       " 'This set off a buying frenzy in big cities that slightly pared the backlog of empty apartments.',\n",
       " 'Lingering problems: What looked like a bubble before looks like one even more so now.',\n",
       " 'Beijing and Shanghai already have some of the world’s highest real estate prices in relation to local incomes.',\n",
       " 'Developers are still heavily in debt.',\n",
       " 'Reforms: China made limited moves to allow foreigners to trade more extensively in the bond market, hedge their currency risk and connect its stock markets in Shanghai and Shenzhen with Hong Kong, which has long served as China’s financial gateway to the rest of the world.',\n",
       " 'Local governments have been discouraged from setting up companies that borrow heavily to pay for public works.',\n",
       " 'Lingering problems: Any moves to open up have been overshadowed by tighter government control after a 2015 stock market crash.',\n",
       " 'A major stock market index passed on including Chinese stocks, citing the need for further improvements.',\n",
       " 'New public-private partnerships have emerged to continue China’s borrowing spree.',\n",
       " 'While Chinese officials had hoped that the private partners would force local governments to make wiser and more cautious investments, the initial “private” partners have tended to be state-owned enterprises, which typically share local governments’ interest in borrowing heavily to create jobs.',\n",
       " 'Reforms: China has moved to help banks plagued by a rising tide of bad loans.',\n",
       " 'Banks have been allowed to swap a few of those unpaid loans for equity stakes in troubled borrowers.',\n",
       " 'Asset management companies have been buying some bad loans from banks.',\n",
       " 'Banks have been given growing discretion to set interest rates based on the creditworthiness of borrowers.',\n",
       " 'The interest rates that banks pay on deposits have been deregulated, allowing a competition among banks that benefits depositors.',\n",
       " 'Lingering problems: Those moves are not enough.',\n",
       " 'Banks still face a large overhang of loans to money-losing companies with little hope of repayment.',\n",
       " 'Banks continue to roll over loans to troubled borrowers and extend huge loans to politically connected borrowers, including influential private companies as well as state-owned enterprises.',\n",
       " 'If the economy does slow sharply, the mountain of bad loans will grow much more.',\n",
       " 'At the same time, entrepreneurs continue to complain that the system denies them the access to cheap money that they need to grow.',\n",
       " 'Reforms: China has modestly reduced its steel-making and coal-mining capacity.',\n",
       " 'Lingering problems: It has a lot more work to do.',\n",
       " 'China still has roughly the same steel-making capacity as the rest of the world combined.',\n",
       " 'China still has too many coal mines given its long-term plans to shift to more solar, wind and nuclear energy.',\n",
       " 'In many other industrial sectors, intense competition and slowing economic growth have curbed private investment.',\n",
       " 'Reforms: Pay has been limited for top executives.',\n",
       " 'A few enterprises have been merged, notably in rail equipment, to limit the extent to which they compete with one another for overseas sales.',\n",
       " 'Lingering problems: China’s state-run companies remain bloated and inefficient.',\n",
       " 'Monopolies and oligopolies continue to dominate large sectors of the economy, like telecommunications and power transmission.',\n",
       " 'State-owned enterprises in sectors like steel making and coal mining tend to focus mainly on preserving employment for their workers, no matter how much money they need to borrow from state-controlled banks to cover financial losses.',\n",
       " 'And those pay limits?',\n",
       " 'They may drive talented leaders to the private sector.',\n",
       " 'Reforms: Faced with a shrinking labor force and a population that is rapidly graying, Mr. Xi ended China’s notorious one-child policy, with its fines and forced abortions, and his government has even begun mulling whether to offer incentives for families to have a second child.',\n",
       " 'Lingering problems: The labor force will continue to shrink for decades, presenting a serious drag on economic growth.',\n",
       " 'Reforms: The government has made it easier for migrant workers from rural areas to obtain residency and access to social benefits in medium-size and smaller cities.',\n",
       " 'The government is preparing to move the municipal bureaucracy of Beijing at the end of this year to an outlying suburb as part of an experiment aimed at testing whether it can build satellite cities around major metropolitan centers.',\n",
       " 'Lingering problems: Rural migrants still have little hope of gaining residency in big cities like Beijing and Shanghai.',\n",
       " 'Without residency, their access to medical insurance, education for their children and other benefits is limited.']"
      ]
     },
     "execution_count": 7,
     "metadata": {},
     "output_type": "execute_result"
    }
   ],
   "source": [
    "tok.sent_tokenize(text)"
   ]
  },
  {
   "cell_type": "code",
   "execution_count": 8,
   "metadata": {},
   "outputs": [
    {
     "data": {
      "application/vnd.jupyter.widget-view+json": {
       "model_id": "a87254d03d294238ae9a18619318f1fe",
       "version_major": 2,
       "version_minor": 0
      },
      "text/plain": [
       "HBox(children=(IntProgress(value=0, max=93228), HTML(value='')))"
      ]
     },
     "metadata": {},
     "output_type": "display_data"
    },
    {
     "name": "stdout",
     "output_type": "stream",
     "text": [
      "\n"
     ]
    }
   ],
   "source": [
    "with open(\"./raw-new.txt\", 'w', encoding='utf-8') as f:\n",
    "    for doc in tqdm(unlabeled_data['text']):\n",
    "        sentences = tok.sent_tokenize(doc)\n",
    "        if len(sentences) > 2:\n",
    "            for sentence in sentences:\n",
    "                f.write(sentence + '\\n')\n",
    "\n",
    "            f.write('\\n')"
   ]
  },
  {
   "cell_type": "code",
   "execution_count": 52,
   "metadata": {},
   "outputs": [
    {
     "name": "stdout",
     "output_type": "stream",
     "text": [
      "China and Economic Reform: Xi Jinping’s Track Record .\r\n",
      "Economists generally agree: China must overhaul its huge but wasteful economy if it wants to continue to grow in the years to come.\r\n",
      "That means limiting political interference in banking and the financial system, making bloated industries more sensitive to market forces and lowering barriers against foreign trade and investment.\r\n",
      "Proponents took heart in late 2012 when President Xi Jinping took formal control of the Chinese Communist Party with pledges to crack down on corruption and cut red tape.\r\n",
      "Today, as Mr. Xi nears the end of his first five-year term, much of the optimism among economists has faded.\r\n",
      "China remains heavily dependent on large investments and has maintained brisk but slowing economic growth only with a steep rise in government-steered lending.\r\n",
      "Still, his administration has made some small changes, and there have been hints that Mr. Xi may focus more on economic overhauls when he starts his second term.\r\n",
      "Here is what Mr. Xi has done so far — and, more important, what he has not done.\r\n",
      "Reforms: Experts give some credit for China’s moves on currency.\r\n",
      "Beijing persuaded the International Monetary Fund in 2015 to admit its currency, the renminbi, to an elite club of currencies in which central banks hold their reserves.\r\n",
      "To win approval, China made it much easier to move money in and out of the country, and shifted the daily pegging of the renminbi to the dollar to a slightly more market-based system.\r\n",
      "Lingering problems: Those moves have been in doubt lately.\r\n",
      "Opening up money flows led so many Chinese families and companies to send their money out of the country that the renminbi weakened against the dollar and the Chinese government had to spend nearly $1 trillion to prop it up.\r\n",
      "In the past 12 months, Beijing has reimposed many restrictions on sending money out of the country.\r\n",
      "Reforms: Faced early last year with a huge supply of unsold real estate and stalling construction, Beijing decided to make it much easier for banks to issue mortgages.\r\n",
      "This set off a buying frenzy in big cities that slightly pared the backlog of empty apartments.\r\n",
      "Lingering problems: What looked like a bubble before looks like one even more so now.\r\n",
      "Beijing and Shanghai already have some of the world’s highest real estate prices in relation to local incomes.\r\n",
      "Developers are still heavily in debt.\r\n",
      "Reforms: China made limited moves to allow foreigners to trade more extensively in the bond market, hedge their currency risk and connect its stock markets in Shanghai and Shenzhen with Hong Kong, which has long served as China’s financial gateway to the rest of the world.\r\n",
      "Local governments have been discouraged from setting up companies that borrow heavily to pay for public works.\r\n",
      "Lingering problems: Any moves to open up have been overshadowed by tighter government control after a 2015 stock market crash.\r\n",
      "A major stock market index passed on including Chinese stocks, citing the need for further improvements.\r\n",
      "New public-private partnerships have emerged to continue China’s borrowing spree.\r\n",
      "While Chinese officials had hoped that the private partners would force local governments to make wiser and more cautious investments, the initial “private” partners have tended to be state-owned enterprises, which typically share local governments’ interest in borrowing heavily to create jobs.\r\n",
      "Reforms: China has moved to help banks plagued by a rising tide of bad loans.\r\n",
      "Banks have been allowed to swap a few of those unpaid loans for equity stakes in troubled borrowers.\r\n",
      "Asset management companies have been buying some bad loans from banks.\r\n",
      "Banks have been given growing discretion to set interest rates based on the creditworthiness of borrowers.\r\n",
      "The interest rates that banks pay on deposits have been deregulated, allowing a competition among banks that benefits depositors.\r\n",
      "Lingering problems: Those moves are not enough.\r\n",
      "Banks still face a large overhang of loans to money-losing companies with little hope of repayment.\r\n",
      "Banks continue to roll over loans to troubled borrowers and extend huge loans to politically connected borrowers, including influential private companies as well as state-owned enterprises.\r\n",
      "If the economy does slow sharply, the mountain of bad loans will grow much more.\r\n",
      "At the same time, entrepreneurs continue to complain that the system denies them the access to cheap money that they need to grow.\r\n",
      "Reforms: China has modestly reduced its steel-making and coal-mining capacity.\r\n",
      "Lingering problems: It has a lot more work to do.\r\n",
      "China still has roughly the same steel-making capacity as the rest of the world combined.\r\n",
      "China still has too many coal mines given its long-term plans to shift to more solar, wind and nuclear energy.\r\n",
      "In many other industrial sectors, intense competition and slowing economic growth have curbed private investment.\r\n",
      "Reforms: Pay has been limited for top executives.\r\n",
      "A few enterprises have been merged, notably in rail equipment, to limit the extent to which they compete with one another for overseas sales.\r\n",
      "Lingering problems: China’s state-run companies remain bloated and inefficient.\r\n",
      "Monopolies and oligopolies continue to dominate large sectors of the economy, like telecommunications and power transmission.\r\n",
      "State-owned enterprises in sectors like steel making and coal mining tend to focus mainly on preserving employment for their workers, no matter how much money they need to borrow from state-controlled banks to cover financial losses.\r\n",
      "And those pay limits?\r\n",
      "They may drive talented leaders to the private sector.\r\n",
      "Reforms: Faced with a shrinking labor force and a population that is rapidly graying, Mr. Xi ended China’s notorious one-child policy, with its fines and forced abortions, and his government has even begun mulling whether to offer incentives for families to have a second child.\r\n",
      "Lingering problems: The labor force will continue to shrink for decades, presenting a serious drag on economic growth.\r\n",
      "Reforms: The government has made it easier for migrant workers from rural areas to obtain residency and access to social benefits in medium-size and smaller cities.\r\n",
      "The government is preparing to move the municipal bureaucracy of Beijing at the end of this year to an outlying suburb as part of an experiment aimed at testing whether it can build satellite cities around major metropolitan centers.\r\n",
      "Lingering problems: Rural migrants still have little hope of gaining residency in big cities like Beijing and Shanghai.\r\n",
      "Without residency, their access to medical insurance, education for their children and other benefits is limited.\r\n",
      "\r\n",
      "Trade to Be a Big Topic in Theresa May’s U.S. Visit.\r\n",
      "LONDON—British Prime Minister Theresa May said she’ll discuss trade and security in a coming meeting with President Donald Trump, his first visit from a foreign leader as president, underscoring the significance of their countries’ relationship.\r\n",
      "Britain, a longtime U.S. ally, is seeking to build on its ties with the U.S. as it leaves the European Union.\r\n",
      "Mrs. May’s key objective on her visit to Washington on Friday will be to lay the...\r\n",
      "\r\n",
      "The Top Beaches In The World, According To National Geographic.\r\n"
     ]
    }
   ],
   "source": [
    "!head -n 60 ./data/bert-lm-tune/raw-new.txt"
   ]
  },
  {
   "cell_type": "code",
   "execution_count": 16,
   "metadata": {},
   "outputs": [
    {
     "name": "stdout",
     "output_type": "stream",
     "text": [
      "--2019-04-24 10:13:41--  https://raw.githubusercontent.com/huggingface/pytorch-pretrained-BERT/master/examples/lm_finetuning/pregenerate_training_data.py\n",
      "Resolving raw.githubusercontent.com (raw.githubusercontent.com)... 151.101.120.133\n",
      "Connecting to raw.githubusercontent.com (raw.githubusercontent.com)|151.101.120.133|:443... connected.\n",
      "HTTP request sent, awaiting response... 200 OK\n",
      "Length: 13773 (13K) [text/plain]\n",
      "Saving to: ‘pregenerate_training_data.py.1’\n",
      "\n",
      "pregenerate_trainin 100%[===================>]  13.45K  --.-KB/s    in 0.001s  \n",
      "\n",
      "2019-04-24 10:13:41 (10.3 MB/s) - ‘pregenerate_training_data.py.1’ saved [13773/13773]\n",
      "\n"
     ]
    }
   ],
   "source": [
    "!wget https://raw.githubusercontent.com/huggingface/pytorch-pretrained-BERT/master/examples/lm_finetuning/pregenerate_training_data.py"
   ]
  },
  {
   "cell_type": "code",
   "execution_count": 17,
   "metadata": {},
   "outputs": [
    {
     "name": "stdout",
     "output_type": "stream",
     "text": [
      "--2019-04-24 10:13:42--  https://raw.githubusercontent.com/huggingface/pytorch-pretrained-BERT/master/examples/lm_finetuning/finetune_on_pregenerated.py\n",
      "Resolving raw.githubusercontent.com (raw.githubusercontent.com)... 151.101.120.133\n",
      "Connecting to raw.githubusercontent.com (raw.githubusercontent.com)|151.101.120.133|:443... connected.\n",
      "HTTP request sent, awaiting response... 200 OK\n",
      "Length: 16132 (16K) [text/plain]\n",
      "Saving to: ‘finetune_on_pregenerated.py.1’\n",
      "\n",
      "finetune_on_pregene 100%[===================>]  15.75K  --.-KB/s    in 0.002s  \n",
      "\n",
      "2019-04-24 10:13:42 (7.76 MB/s) - ‘finetune_on_pregenerated.py.1’ saved [16132/16132]\n",
      "\n"
     ]
    }
   ],
   "source": [
    "!wget https://raw.githubusercontent.com/huggingface/pytorch-pretrained-BERT/master/examples/lm_finetuning/finetune_on_pregenerated.py"
   ]
  },
  {
   "cell_type": "code",
   "execution_count": 23,
   "metadata": {},
   "outputs": [
    {
     "name": "stdout",
     "output_type": "stream",
     "text": [
      "--2019-04-26 16:50:31--  https://raw.githubusercontent.com/huggingface/pytorch-pretrained-BERT/master/examples/lm_finetuning/simple_lm_finetuning.py\n",
      "Resolving raw.githubusercontent.com (raw.githubusercontent.com)... 151.101.120.133\n",
      "Connecting to raw.githubusercontent.com (raw.githubusercontent.com)|151.101.120.133|:443... connected.\n",
      "HTTP request sent, awaiting response... 200 OK\n",
      "Length: 28113 (27K) [text/plain]\n",
      "Saving to: ‘simple_lm_finetuning.py’\n",
      "\n",
      "simple_lm_finetunin 100%[===================>]  27.45K  --.-KB/s    in 0.001s  \n",
      "\n",
      "2019-04-26 16:50:31 (18.6 MB/s) - ‘simple_lm_finetuning.py’ saved [28113/28113]\n",
      "\n"
     ]
    }
   ],
   "source": [
    "!wget https://raw.githubusercontent.com/huggingface/pytorch-pretrained-BERT/master/examples/lm_finetuning/simple_lm_finetuning.py"
   ]
  },
  {
   "cell_type": "markdown",
   "metadata": {},
   "source": [
    "# Preprocessing data for lm tuning"
   ]
  },
  {
   "cell_type": "code",
   "execution_count": 18,
   "metadata": {},
   "outputs": [
    {
     "name": "stdout",
     "output_type": "stream",
     "text": [
      "Better speed can be achieved with apex installed from https://www.github.com/nvidia/apex.\r\n",
      "usage: pregenerate_training_data.py [-h] --train_corpus TRAIN_CORPUS\r\n",
      "                                    --output_dir OUTPUT_DIR --bert_model\r\n",
      "                                    {bert-base-uncased,bert-large-uncased,bert-base-cased,bert-base-multilingual,bert-base-chinese}\r\n",
      "                                    [--do_lower_case] [--reduce_memory]\r\n",
      "                                    [--epochs_to_generate EPOCHS_TO_GENERATE]\r\n",
      "                                    [--max_seq_len MAX_SEQ_LEN]\r\n",
      "                                    [--short_seq_prob SHORT_SEQ_PROB]\r\n",
      "                                    [--masked_lm_prob MASKED_LM_PROB]\r\n",
      "                                    [--max_predictions_per_seq MAX_PREDICTIONS_PER_SEQ]\r\n",
      "\r\n",
      "optional arguments:\r\n",
      "  -h, --help            show this help message and exit\r\n",
      "  --train_corpus TRAIN_CORPUS\r\n",
      "  --output_dir OUTPUT_DIR\r\n",
      "  --bert_model {bert-base-uncased,bert-large-uncased,bert-base-cased,bert-base-multilingual,bert-base-chinese}\r\n",
      "  --do_lower_case\r\n",
      "  --reduce_memory       Reduce memory usage for large datasets by keeping data\r\n",
      "                        on disc rather than in memory\r\n",
      "  --epochs_to_generate EPOCHS_TO_GENERATE\r\n",
      "                        Number of epochs of data to pregenerate\r\n",
      "  --max_seq_len MAX_SEQ_LEN\r\n",
      "  --short_seq_prob SHORT_SEQ_PROB\r\n",
      "                        Probability of making a short sentence as a training\r\n",
      "                        example\r\n",
      "  --masked_lm_prob MASKED_LM_PROB\r\n",
      "                        Probability of masking each token for the LM task\r\n",
      "  --max_predictions_per_seq MAX_PREDICTIONS_PER_SEQ\r\n",
      "                        Maximum number of tokens to mask in each sequence\r\n"
     ]
    }
   ],
   "source": [
    "!python pregenerate_training_data.py -h"
   ]
  },
  {
   "cell_type": "code",
   "execution_count": 24,
   "metadata": {
    "scrolled": false
   },
   "outputs": [
    {
     "name": "stdout",
     "output_type": "stream",
     "text": [
      "usage: simple_lm_finetuning.py [-h] --train_corpus TRAIN_CORPUS --bert_model\r\n",
      "                               BERT_MODEL --output_dir OUTPUT_DIR\r\n",
      "                               [--max_seq_length MAX_SEQ_LENGTH] [--do_train]\r\n",
      "                               [--train_batch_size TRAIN_BATCH_SIZE]\r\n",
      "                               [--learning_rate LEARNING_RATE]\r\n",
      "                               [--num_train_epochs NUM_TRAIN_EPOCHS]\r\n",
      "                               [--warmup_proportion WARMUP_PROPORTION]\r\n",
      "                               [--no_cuda] [--on_memory] [--do_lower_case]\r\n",
      "                               [--local_rank LOCAL_RANK] [--seed SEED]\r\n",
      "                               [--gradient_accumulation_steps GRADIENT_ACCUMULATION_STEPS]\r\n",
      "                               [--fp16] [--loss_scale LOSS_SCALE]\r\n",
      "\r\n",
      "optional arguments:\r\n",
      "  -h, --help            show this help message and exit\r\n",
      "  --train_corpus TRAIN_CORPUS\r\n",
      "                        The input train corpus.\r\n",
      "  --bert_model BERT_MODEL\r\n",
      "                        Bert pre-trained model selected in the list: bert-\r\n",
      "                        base-uncased, bert-large-uncased, bert-base-cased,\r\n",
      "                        bert-base-multilingual, bert-base-chinese.\r\n",
      "  --output_dir OUTPUT_DIR\r\n",
      "                        The output directory where the model checkpoints will\r\n",
      "                        be written.\r\n",
      "  --max_seq_length MAX_SEQ_LENGTH\r\n",
      "                        The maximum total input sequence length after\r\n",
      "                        WordPiece tokenization. Sequences longer than this\r\n",
      "                        will be truncated, and sequences shorter than this\r\n",
      "                        will be padded.\r\n",
      "  --do_train            Whether to run training.\r\n",
      "  --train_batch_size TRAIN_BATCH_SIZE\r\n",
      "                        Total batch size for training.\r\n",
      "  --learning_rate LEARNING_RATE\r\n",
      "                        The initial learning rate for Adam.\r\n",
      "  --num_train_epochs NUM_TRAIN_EPOCHS\r\n",
      "                        Total number of training epochs to perform.\r\n",
      "  --warmup_proportion WARMUP_PROPORTION\r\n",
      "                        Proportion of training to perform linear learning rate\r\n",
      "                        warmup for. E.g., 0.1 = 10% of training.\r\n",
      "  --no_cuda             Whether not to use CUDA when available\r\n",
      "  --on_memory           Whether to load train samples into memory or use disk\r\n",
      "  --do_lower_case       Whether to lower case the input text. True for uncased\r\n",
      "                        models, False for cased models.\r\n",
      "  --local_rank LOCAL_RANK\r\n",
      "                        local_rank for distributed training on gpus\r\n",
      "  --seed SEED           random seed for initialization\r\n",
      "  --gradient_accumulation_steps GRADIENT_ACCUMULATION_STEPS\r\n",
      "                        Number of updates steps to accumualte before\r\n",
      "                        performing a backward/update pass.\r\n",
      "  --fp16                Whether to use 16-bit float precision instead of\r\n",
      "                        32-bit\r\n",
      "  --loss_scale LOSS_SCALE\r\n",
      "                        Loss scaling to improve fp16 numeric stability. Only\r\n",
      "                        used when fp16 set to True. 0 (default value): dynamic\r\n",
      "                        loss scaling. Positive power of 2: static loss scaling\r\n",
      "                        value.\r\n"
     ]
    }
   ],
   "source": [
    "!python3 simple_lm_finetuning.py --train_corpus ./data/bert-lm-tune/raw-new.txt --bert_model bert-base-uncased --fp16 --output_dir ./models/bert_simple/ --do_train --max_seq_len 256 --num_train_epochs 3 --on_memory --do_lower_case"
   ]
  },
  {
   "cell_type": "code",
   "execution_count": 19,
   "metadata": {},
   "outputs": [
    {
     "name": "stdout",
     "output_type": "stream",
     "text": [
      "Cloning into 'apex'...\n",
      "remote: Enumerating objects: 23, done.\u001b[K\n",
      "remote: Counting objects: 100% (23/23), done.\u001b[K\n",
      "remote: Compressing objects: 100% (14/14), done.\u001b[K\n",
      "remote: Total 4042 (delta 11), reused 19 (delta 9), pack-reused 4019\u001b[K\n",
      "Receiving objects: 100% (4042/4042), 8.53 MiB | 10.44 MiB/s, done.\n",
      "Resolving deltas: 100% (2587/2587), done.\n"
     ]
    }
   ],
   "source": [
    "!git clone https://github.com/NVIDIA/apex"
   ]
  },
  {
   "cell_type": "code",
   "execution_count": 2,
   "metadata": {},
   "outputs": [],
   "source": [
    "train_data = pd.read_csv(\"./train_google (1).csv\", header=None)"
   ]
  },
  {
   "cell_type": "code",
   "execution_count": 3,
   "metadata": {},
   "outputs": [
    {
     "data": {
      "text/html": [
       "<div>\n",
       "<style scoped>\n",
       "    .dataframe tbody tr th:only-of-type {\n",
       "        vertical-align: middle;\n",
       "    }\n",
       "\n",
       "    .dataframe tbody tr th {\n",
       "        vertical-align: top;\n",
       "    }\n",
       "\n",
       "    .dataframe thead th {\n",
       "        text-align: right;\n",
       "    }\n",
       "</style>\n",
       "<table border=\"1\" class=\"dataframe\">\n",
       "  <thead>\n",
       "    <tr style=\"text-align: right;\">\n",
       "      <th></th>\n",
       "      <th>0</th>\n",
       "      <th>1</th>\n",
       "      <th>2</th>\n",
       "    </tr>\n",
       "  </thead>\n",
       "  <tbody>\n",
       "    <tr>\n",
       "      <th>0</th>\n",
       "      <td>Economists generally agree: China must overhau...</td>\n",
       "      <td>news</td>\n",
       "      <td>6530</td>\n",
       "    </tr>\n",
       "    <tr>\n",
       "      <th>1</th>\n",
       "      <td>LONDON—British Prime Minister Theresa May said...</td>\n",
       "      <td>news</td>\n",
       "      <td>439</td>\n",
       "    </tr>\n",
       "    <tr>\n",
       "      <th>2</th>\n",
       "      <td>Beaches come in all sorts of shapes and sizes ...</td>\n",
       "      <td>clickbait</td>\n",
       "      <td>671</td>\n",
       "    </tr>\n",
       "    <tr>\n",
       "      <th>3</th>\n",
       "      <td>A timeline of what happened after Tamir Rice, ...</td>\n",
       "      <td>clickbait</td>\n",
       "      <td>6166</td>\n",
       "    </tr>\n",
       "    <tr>\n",
       "      <th>4</th>\n",
       "      <td>An Italian neurosurgeon who has claimed for mo...</td>\n",
       "      <td>news</td>\n",
       "      <td>2839</td>\n",
       "    </tr>\n",
       "  </tbody>\n",
       "</table>\n",
       "</div>"
      ],
      "text/plain": [
       "                                                   0          1     2\n",
       "0  Economists generally agree: China must overhau...       news  6530\n",
       "1  LONDON—British Prime Minister Theresa May said...       news   439\n",
       "2  Beaches come in all sorts of shapes and sizes ...  clickbait   671\n",
       "3  A timeline of what happened after Tamir Rice, ...  clickbait  6166\n",
       "4  An Italian neurosurgeon who has claimed for mo...       news  2839"
      ]
     },
     "execution_count": 3,
     "metadata": {},
     "output_type": "execute_result"
    }
   ],
   "source": [
    "train_data.head()"
   ]
  },
  {
   "cell_type": "code",
   "execution_count": 8,
   "metadata": {},
   "outputs": [],
   "source": [
    "train_new = pd.DataFrame({\n",
    "    'text': train_data.loc[:, 0],\n",
    "    'label': train_data.loc[:, 1]\n",
    "}).to_csv(\"./train_google.csv\", index=None, header=None, encoding='utf-8')"
   ]
  },
  {
   "cell_type": "code",
   "execution_count": 7,
   "metadata": {},
   "outputs": [
    {
     "data": {
      "text/html": [
       "<div>\n",
       "<style scoped>\n",
       "    .dataframe tbody tr th:only-of-type {\n",
       "        vertical-align: middle;\n",
       "    }\n",
       "\n",
       "    .dataframe tbody tr th {\n",
       "        vertical-align: top;\n",
       "    }\n",
       "\n",
       "    .dataframe thead th {\n",
       "        text-align: right;\n",
       "    }\n",
       "</style>\n",
       "<table border=\"1\" class=\"dataframe\">\n",
       "  <thead>\n",
       "    <tr style=\"text-align: right;\">\n",
       "      <th></th>\n",
       "      <th>text</th>\n",
       "      <th>label</th>\n",
       "    </tr>\n",
       "  </thead>\n",
       "  <tbody>\n",
       "    <tr>\n",
       "      <th>0</th>\n",
       "      <td>Economists generally agree: China must overhau...</td>\n",
       "      <td>news</td>\n",
       "    </tr>\n",
       "    <tr>\n",
       "      <th>1</th>\n",
       "      <td>LONDON—British Prime Minister Theresa May said...</td>\n",
       "      <td>news</td>\n",
       "    </tr>\n",
       "    <tr>\n",
       "      <th>2</th>\n",
       "      <td>Beaches come in all sorts of shapes and sizes ...</td>\n",
       "      <td>clickbait</td>\n",
       "    </tr>\n",
       "    <tr>\n",
       "      <th>3</th>\n",
       "      <td>A timeline of what happened after Tamir Rice, ...</td>\n",
       "      <td>clickbait</td>\n",
       "    </tr>\n",
       "    <tr>\n",
       "      <th>4</th>\n",
       "      <td>An Italian neurosurgeon who has claimed for mo...</td>\n",
       "      <td>news</td>\n",
       "    </tr>\n",
       "    <tr>\n",
       "      <th>5</th>\n",
       "      <td>Spanx does not do the thing I thought it did. ...</td>\n",
       "      <td>news</td>\n",
       "    </tr>\n",
       "    <tr>\n",
       "      <th>6</th>\n",
       "      <td>“Jane Pauley! You’re all in leather,” said Sam...</td>\n",
       "      <td>news</td>\n",
       "    </tr>\n",
       "    <tr>\n",
       "      <th>7</th>\n",
       "      <td>Charles Krauthammer called President Trump's 5...</td>\n",
       "      <td>news</td>\n",
       "    </tr>\n",
       "    <tr>\n",
       "      <th>8</th>\n",
       "      <td>The United States is making more things than e...</td>\n",
       "      <td>news</td>\n",
       "    </tr>\n",
       "    <tr>\n",
       "      <th>9</th>\n",
       "      <td>As Jewish settlers and protesters were removed...</td>\n",
       "      <td>news</td>\n",
       "    </tr>\n",
       "    <tr>\n",
       "      <th>10</th>\n",
       "      <td>In the very best invention stories, the tinker...</td>\n",
       "      <td>news</td>\n",
       "    </tr>\n",
       "    <tr>\n",
       "      <th>11</th>\n",
       "      <td>President Donald Trump may want to consider sw...</td>\n",
       "      <td>news</td>\n",
       "    </tr>\n",
       "    <tr>\n",
       "      <th>12</th>\n",
       "      <td>Bob Bryan 30.12.2016, 22:01 60 facebook linked...</td>\n",
       "      <td>clickbait</td>\n",
       "    </tr>\n",
       "    <tr>\n",
       "      <th>13</th>\n",
       "      <td>Jared Kushner, President Donald Trump's son-in...</td>\n",
       "      <td>news</td>\n",
       "    </tr>\n",
       "    <tr>\n",
       "      <th>14</th>\n",
       "      <td>Get ready to have your heart broken.  In a new...</td>\n",
       "      <td>clickbait</td>\n",
       "    </tr>\n",
       "    <tr>\n",
       "      <th>15</th>\n",
       "      <td>Madeline Stone und Dave Smith 27.12.2016, 17:3...</td>\n",
       "      <td>news</td>\n",
       "    </tr>\n",
       "    <tr>\n",
       "      <th>16</th>\n",
       "      <td>03 Apr 2017 Mark Edward Harris has visited Nor...</td>\n",
       "      <td>clickbait</td>\n",
       "    </tr>\n",
       "    <tr>\n",
       "      <th>17</th>\n",
       "      <td>The Super Bowl champion New England Patriots w...</td>\n",
       "      <td>news</td>\n",
       "    </tr>\n",
       "    <tr>\n",
       "      <th>18</th>\n",
       "      <td>Summer means it's time to bring out the swimsu...</td>\n",
       "      <td>clickbait</td>\n",
       "    </tr>\n",
       "    <tr>\n",
       "      <th>19</th>\n",
       "      <td>Stephen Manderson - better known as Professor ...</td>\n",
       "      <td>news</td>\n",
       "    </tr>\n",
       "  </tbody>\n",
       "</table>\n",
       "</div>"
      ],
      "text/plain": [
       "                                                 text      label\n",
       "0   Economists generally agree: China must overhau...       news\n",
       "1   LONDON—British Prime Minister Theresa May said...       news\n",
       "2   Beaches come in all sorts of shapes and sizes ...  clickbait\n",
       "3   A timeline of what happened after Tamir Rice, ...  clickbait\n",
       "4   An Italian neurosurgeon who has claimed for mo...       news\n",
       "5   Spanx does not do the thing I thought it did. ...       news\n",
       "6   “Jane Pauley! You’re all in leather,” said Sam...       news\n",
       "7   Charles Krauthammer called President Trump's 5...       news\n",
       "8   The United States is making more things than e...       news\n",
       "9   As Jewish settlers and protesters were removed...       news\n",
       "10  In the very best invention stories, the tinker...       news\n",
       "11  President Donald Trump may want to consider sw...       news\n",
       "12  Bob Bryan 30.12.2016, 22:01 60 facebook linked...  clickbait\n",
       "13  Jared Kushner, President Donald Trump's son-in...       news\n",
       "14  Get ready to have your heart broken.  In a new...  clickbait\n",
       "15  Madeline Stone und Dave Smith 27.12.2016, 17:3...       news\n",
       "16  03 Apr 2017 Mark Edward Harris has visited Nor...  clickbait\n",
       "17  The Super Bowl champion New England Patriots w...       news\n",
       "18  Summer means it's time to bring out the swimsu...  clickbait\n",
       "19  Stephen Manderson - better known as Professor ...       news"
      ]
     },
     "execution_count": 7,
     "metadata": {},
     "output_type": "execute_result"
    }
   ],
   "source": [
    "train_new.head(20)"
   ]
  },
  {
   "cell_type": "code",
   "execution_count": null,
   "metadata": {},
   "outputs": [],
   "source": []
  }
 ],
 "metadata": {
  "kernelspec": {
   "display_name": "Python 3",
   "language": "python",
   "name": "python3"
  },
  "language_info": {
   "codemirror_mode": {
    "name": "ipython",
    "version": 3
   },
   "file_extension": ".py",
   "mimetype": "text/x-python",
   "name": "python",
   "nbconvert_exporter": "python",
   "pygments_lexer": "ipython3",
   "version": "3.7.1"
  }
 },
 "nbformat": 4,
 "nbformat_minor": 2
}
